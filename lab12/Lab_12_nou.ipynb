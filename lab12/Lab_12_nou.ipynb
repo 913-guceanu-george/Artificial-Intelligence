{
  "cells": [
    {
      "attachments": {},
      "cell_type": "markdown",
      "metadata": {},
      "source": [
        "## Lab. 12\n",
        "\n",
        "### Solve the following problem using Genetic Algorithms:\n",
        "\n",
        "\n",
        "Problem: Weighted N-Queen Problem\n",
        "\n",
        "\n",
        "You are given an N×N chessboard, and each cell of the board has an associated weight. Your task is to find a valid placement of N queens such that the total weight of the queens is maximized, and no two queens threaten each other.\n",
        "\n"
      ]
    },
    {
      "attachments": {},
      "cell_type": "markdown",
      "metadata": {},
      "source": [
        "\n",
        "\n",
        "In the traditional N-Queen Problem, the goal is to place N queens on an N×N chessboard in such a way that no two queens threaten each other. In this variation, we introduce weights to the queens and aim to find a placement that maximizes the total weight of the queens while satisfying the constraint of non-threatening positions.\n",
        "\n",
        "\n",
        "Constraints:\n",
        "\n",
        "1. There should be exactly one queen in each row and each column.\n",
        "2. No two queens should be placed in the same diagonal, i.e., they should not threaten each other.\n",
        "3. The placement should maximize the total weight of the queens.\n",
        "\n",
        "\n",
        "Representation:\n",
        "\n",
        "Use a permutation-based representation. Each permutation represents the column position of the queen for each row. \n",
        "\n",
        "For example, if N=4, a valid permutation [2, 4, 1, 3] indicates that the queen in the first row is placed in column 2, the queen in the second row is placed in column 4, and so on.\n",
        "\n",
        "\n",
        "Genetic Algorithm Steps:\n",
        "\n",
        "1. *Initialization*: Generate an initial population of permutations randomly.\n",
        "\n",
        "2. *Fitness Evaluation*: Evaluate the fitness of each permutation by calculating the total weight of the queens while considering the non-threatening positions.\n",
        "\n",
        "3. *Selection*: Select a subset of permutations from the population based on their fitness, using selection techniques like tournament selection or roulette wheel selection.\n",
        "\n",
        "4. *Crossover*: Perform crossover (recombination) on the selected permutations to create new offspring permutations.\n",
        "\n",
        "5. *Mutation*: Introduce random changes (mutations) in the offspring permutations to maintain diversity in the population.\n",
        "\n",
        "6. *Fitness Evaluation for the new individuals*: Evaluate the fitness of the new population.\n",
        "\n",
        "7. *Form the new population*: Select the surviving individuals based on scores, with chances direct proportional with their performance.\n",
        "\n",
        "8. Repeat steps 3-7 for a certain number of generations or until a termination condition is met (e.g., a maximum number of iterations or a satisfactory solution is found).\n",
        "\n",
        "\n",
        "9. *Termination*: Return the best-performing individual (permutation) found as the solution to the problem.\n",
        "\n",
        "Note: The fitness function used in this problem should calculate the total weight of the queens based on the positions specified by the permutation. Additionally, the fitness function should penalize solutions that violate the non-threatening constraint by assigning a lower fitness score to such permutations."
      ]
    },
    {
      "cell_type": "code",
      "execution_count": 213,
      "metadata": {},
      "outputs": [],
      "source": [
        "import random\n",
        "\n",
        "# 1. Generate an initial population of permutations randomly\n",
        "def initialize_population(N, population_size):\n",
        "    population = list()\n",
        "    for _ in range(population_size):\n",
        "        perm = random.sample(range(1, N+1), N)\n",
        "        population.append(perm)\n",
        "    return population\n"
      ]
    },
    {
      "cell_type": "code",
      "execution_count": 214,
      "metadata": {},
      "outputs": [],
      "source": [
        "# 2. Evaluate the fitness of each permutation by calculating the total weight of the queens while considering the non-threatening positions.\n",
        "def calculate_fitness(perm, weights):\n",
        "    fitness = 0\n",
        "    for row, col in enumerate(perm):\n",
        "        fitness += weights[row][col-1]\n",
        "    for i in range(len(perm)):\n",
        "        for j in range(i+1, len(perm)):\n",
        "            if abs(perm[i] - perm[j]) == abs(i - j):\n",
        "                fitness -= 3\n",
        "    return fitness"
      ]
    },
    {
      "cell_type": "code",
      "execution_count": 215,
      "metadata": {},
      "outputs": [],
      "source": [
        "# 3. Select a subset of permutations from the population based on their fitness, using selection techniques like tournament selection or roulette wheel selection.\n",
        "def select_parents(population, weights, num_parents):\n",
        "    fitness_scores = [calculate_fitness(perm, weights) for perm in population]\n",
        "    parents = random.choices(population, weights=fitness_scores, k=num_parents)\n",
        "    return parents"
      ]
    },
    {
      "cell_type": "code",
      "execution_count": 216,
      "metadata": {},
      "outputs": [],
      "source": [
        "# 4. Perform crossover (recombination) on the selected permutations to create new offspring permutations.\n",
        "def crossover(parents, offspring_size):\n",
        "    offspring = list()\n",
        "    for _ in range(offspring_size):\n",
        "        parent1, parent2 = random.sample(parents, 2)\n",
        "        crossover_point = random.randint(1, len(parent1)-1)\n",
        "        offspring.append(parent1[:crossover_point] + parent2[crossover_point:])\n",
        "    return offspring"
      ]
    },
    {
      "cell_type": "code",
      "execution_count": 217,
      "metadata": {},
      "outputs": [],
      "source": [
        "# 5. Introduce random changes (mutations) in the offspring permutations to maintain diversity in the population.\n",
        "def mutate_swap(population, mutation_rate):\n",
        "    for i in range(len(population)):\n",
        "        if random.random() < mutation_rate:\n",
        "            swap_index = random.sample(range(len(population[i])), 2)\n",
        "            population[i][swap_index[0]], population[i][swap_index[1]] = \\\n",
        "                population[i][swap_index[1]], population[i][swap_index[0]]\n",
        "    return population"
      ]
    },
    {
      "cell_type": "code",
      "execution_count": 218,
      "metadata": {},
      "outputs": [],
      "source": [
        "def mutate_adaptive(population, mutation_rate, weights):\n",
        "    for i in range(len(population)):\n",
        "        if random.random() < mutation_rate:\n",
        "            fitness_scores = [calculate_fitness(perm, weights) for perm in population]\n",
        "            best_perm = population[fitness_scores.index(max(fitness_scores))]\n",
        "            swap_index = random.sample(range(len(population[i])), 2)\n",
        "            population[i][swap_index[0]], population[i][swap_index[1]] = \\\n",
        "                best_perm[swap_index[1]], best_perm[swap_index[0]]\n",
        "    return population"
      ]
    },
    {
      "cell_type": "code",
      "execution_count": 219,
      "metadata": {},
      "outputs": [],
      "source": [
        "def mutate_insert(population, mutation_rate):\n",
        "    for i in range(len(population)):\n",
        "        if random.random() < mutation_rate:\n",
        "            insert_index = random.sample(range(len(population[i])), 2)\n",
        "            population[i].insert(insert_index[0], population[i].pop(insert_index[1]))\n",
        "    return population"
      ]
    },
    {
      "cell_type": "code",
      "execution_count": 220,
      "metadata": {},
      "outputs": [],
      "source": [
        "# 6. Evaluate the fitness of the new population. Select the surviving individuals based on scores, with chances direct proportional with their performance.\n",
        "def weighted_n_queen_swap(N, weights, population_size, num_generations, mutation_rate):\n",
        "    population = initialize_population(N, population_size)\n",
        "    for _ in range(num_generations):\n",
        "        parents = select_parents(population, weights, 2)\n",
        "        offspring = crossover(parents, population_size)\n",
        "        population = parents + offspring\n",
        "        population = mutate_swap(population, mutation_rate)\n",
        "        \n",
        "    fitness_scores = [calculate_fitness(perm, weights) for perm in population]\n",
        "    best_perm = population[fitness_scores.index(max(fitness_scores))]\n",
        "    return best_perm"
      ]
    },
    {
      "cell_type": "code",
      "execution_count": 221,
      "metadata": {},
      "outputs": [],
      "source": [
        "def weighted_n_queen_adaptive(N, weights, population_size, num_generations, mutation_rate):\n",
        "    population = initialize_population(N, population_size)\n",
        "    for _ in range(num_generations):\n",
        "        parents = select_parents(population, weights, 2)\n",
        "        offspring = crossover(parents, population_size)\n",
        "        population = parents + offspring\n",
        "        population = mutate_adaptive(population, mutation_rate, weights)\n",
        "        \n",
        "    fitness_scores = [calculate_fitness(perm, weights) for perm in population]\n",
        "    best_perm = population[fitness_scores.index(max(fitness_scores))]\n",
        "    return best_perm"
      ]
    },
    {
      "cell_type": "code",
      "execution_count": 222,
      "metadata": {},
      "outputs": [],
      "source": [
        "def weighted_n_queen_insert(N, weights, population_size, num_generations, mutation_rate):\n",
        "    population = initialize_population(N, population_size)\n",
        "    for _ in range(num_generations):\n",
        "        parents = select_parents(population, weights, 2)\n",
        "        offspring = crossover(parents, population_size)\n",
        "        population = parents + offspring\n",
        "        population = mutate_insert(population, mutation_rate)\n",
        "        \n",
        "    fitness_scores = [calculate_fitness(perm, weights) for perm in population]\n",
        "    best_perm = population[fitness_scores.index(max(fitness_scores))]\n",
        "    return best_perm"
      ]
    },
    {
      "cell_type": "code",
      "execution_count": 223,
      "metadata": {},
      "outputs": [
        {
          "name": "stdout",
          "output_type": "stream",
          "text": [
            "Queens matrix:\n",
            "- - - - - - - Q \n",
            "- - - Q - - - - \n",
            "- Q - - - - - - \n",
            "- Q - - - - - - \n",
            "- - - - - Q - - \n",
            "Q - - - - - - - \n",
            "- - - - - - Q - \n",
            "- Q - - - - - - \n",
            "Best permutation: [8, 4, 2, 2, 6, 1, 7, 2]\n",
            "Fitness score: 18.5\n"
          ]
        }
      ],
      "source": [
        "def main_swap():\n",
        "    N = 8\n",
        "    weights = [[2, 1, 3, 2, 4, 5, 1, 2],\n",
        "           [3, 1, 2, 4, 3, 2, 1, 4],\n",
        "           [1, 4, 3, 2, 1, 2, 3, 4],\n",
        "           [4, 1, 2, 3, 4, 1, 2, 3],\n",
        "           [2, 3, 1, 4, 2, 3, 1, 2],\n",
        "           [1, 2, 3, 1, 4, 2, 3, 1],\n",
        "           [3, 2, 1, 2, 3, 1, 4, 2],\n",
        "           [4, 3, 2, 1, 2, 3, 1, 2]]\n",
        "    \n",
        "    population_size = 100\n",
        "    num_generations = 100\n",
        "    mutation_rate = 0.01\n",
        "        \n",
        "    \n",
        "    solution = weighted_n_queen_swap(N, weights, population_size, num_generations, mutation_rate)\n",
        "    # Print the queens matrix\n",
        "    print(\"Queens matrix:\")\n",
        "    for row, col in enumerate(solution):\n",
        "        print(\"- \" * (col-1) + \"Q \" + \"- \" * (N-col))\n",
        "        \n",
        "    \n",
        "    print(f\"Best permutation: {solution}\")\n",
        "    print(f\"Fitness score: {calculate_fitness(solution, weights)}\")\n",
        "    \n",
        "main_swap()\n"
      ]
    },
    {
      "cell_type": "code",
      "execution_count": 224,
      "metadata": {},
      "outputs": [
        {
          "name": "stdout",
          "output_type": "stream",
          "text": [
            "Queens matrix:\n",
            "Q - - - - - - - \n",
            "- - - Q - - - - \n",
            "- - - - Q - - - \n",
            "- - - - - - - Q \n",
            "- Q - - - - - - \n",
            "- - - - - - Q - \n",
            "- - Q - - - - - \n",
            "- - - - - Q - - \n",
            "Best permutation: [1, 4, 5, 8, 2, 7, 3, 6]\n",
            "Fitness score: 16.5\n"
          ]
        }
      ],
      "source": [
        "def main_adaptive():\n",
        "    N = 8\n",
        "    weights = [[2, 1, 3, 2, 4, 5, 1, 2],\n",
        "           [3, 1, 2, 4, 3, 2, 1, 4],\n",
        "           [1, 4, 3, 2, 1, 2, 3, 4],\n",
        "           [4, 1, 2, 3, 4, 1, 2, 3],\n",
        "           [2, 3, 1, 4, 2, 3, 1, 2],\n",
        "           [1, 2, 3, 1, 4, 2, 3, 1],\n",
        "           [3, 2, 1, 2, 3, 1, 4, 2],\n",
        "           [4, 3, 2, 1, 2, 3, 1, 2]]\n",
        "    \n",
        "    population_size = 100\n",
        "    num_generations = 100\n",
        "    mutation_rate = 0.01\n",
        "        \n",
        "    \n",
        "    solution = weighted_n_queen_adaptive(N, weights, population_size, num_generations, mutation_rate)\n",
        "    # Print the queens matrix\n",
        "    print(\"Queens matrix:\")\n",
        "    for row, col in enumerate(solution):\n",
        "        print(\"- \" * (col-1) + \"Q \" + \"- \" * (N-col))\n",
        "        \n",
        "    \n",
        "    print(f\"Best permutation: {solution}\")\n",
        "    print(f\"Fitness score: {calculate_fitness(solution, weights)}\")\n",
        "    \n",
        "main_adaptive()"
      ]
    },
    {
      "cell_type": "code",
      "execution_count": 225,
      "metadata": {},
      "outputs": [
        {
          "name": "stdout",
          "output_type": "stream",
          "text": [
            "Queens matrix:\n",
            "- - - - - Q - - \n",
            "- - - - - - - Q \n",
            "Q - - - - - - - \n",
            "- - Q - - - - - \n",
            "- - - Q - - - - \n",
            "- - - - Q - - - \n",
            "- - - - - - Q - \n",
            "- - - Q - - - - \n",
            "Best permutation: [6, 8, 1, 3, 4, 5, 7, 4]\n",
            "Fitness score: 11.0\n"
          ]
        }
      ],
      "source": [
        "def main_insert():\n",
        "    N = 8\n",
        "    weights = [[2, 1, 3, 2, 4, 5, 1, 2],\n",
        "           [3, 1, 2, 4, 3, 2, 1, 4],\n",
        "           [1, 4, 3, 2, 1, 2, 3, 4],\n",
        "           [4, 1, 2, 3, 4, 1, 2, 3],\n",
        "           [2, 3, 1, 4, 2, 3, 1, 2],\n",
        "           [1, 2, 3, 1, 4, 2, 3, 1],\n",
        "           [3, 2, 1, 2, 3, 1, 4, 2],\n",
        "           [4, 3, 2, 1, 2, 3, 1, 2]]\n",
        "    \n",
        "    population_size = 100\n",
        "    num_generations = 100\n",
        "    mutation_rate = 0.01\n",
        "        \n",
        "    \n",
        "    solution = weighted_n_queen_insert(N, weights, population_size, num_generations, mutation_rate)\n",
        "    # Print the queens matrix\n",
        "    print(\"Queens matrix:\")\n",
        "    for row, col in enumerate(solution):\n",
        "        print(\"- \" * (col-1) + \"Q \" + \"- \" * (N-col))\n",
        "        \n",
        "    \n",
        "    print(f\"Best permutation: {solution}\")\n",
        "    print(f\"Fitness score: {calculate_fitness(solution, weights)}\")\n",
        "\n",
        "main_insert()"
      ]
    }
  ],
  "metadata": {
    "kernel_info": {
      "name": "python"
    },
    "kernelspec": {
      "display_name": "Python 3",
      "language": "python",
      "name": "python3"
    },
    "language_info": {
      "codemirror_mode": {
        "name": "ipython",
        "version": 3
      },
      "file_extension": ".py",
      "mimetype": "text/x-python",
      "name": "python",
      "nbconvert_exporter": "python",
      "pygments_lexer": "ipython3",
      "version": "3.11.2"
    },
    "nteract": {
      "version": "nteract-front-end@1.0.0"
    },
    "orig_nbformat": 4
  },
  "nbformat": 4,
  "nbformat_minor": 2
}
